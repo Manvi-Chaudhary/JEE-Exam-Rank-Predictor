{
 "cells": [
  {
   "cell_type": "code",
   "execution_count": 1,
   "id": "3da4fa61",
   "metadata": {
    "_cell_guid": "b1076dfc-b9ad-4769-8c92-a6c4dae69d19",
    "_uuid": "8f2839f25d086af736a60e9eeb907d3b93b6e0e5",
    "execution": {
     "iopub.execute_input": "2023-05-21T13:57:24.513987Z",
     "iopub.status.busy": "2023-05-21T13:57:24.513196Z",
     "iopub.status.idle": "2023-05-21T13:57:25.535018Z",
     "shell.execute_reply": "2023-05-21T13:57:25.533389Z"
    },
    "papermill": {
     "duration": 1.03522,
     "end_time": "2023-05-21T13:57:25.537244",
     "exception": false,
     "start_time": "2023-05-21T13:57:24.502024",
     "status": "completed"
    },
    "tags": []
   },
   "outputs": [
    {
     "name": "stderr",
     "output_type": "stream",
     "text": [
      "/opt/conda/lib/python3.10/site-packages/scipy/__init__.py:146: UserWarning: A NumPy version >=1.16.5 and <1.23.0 is required for this version of SciPy (detected version 1.23.5\n",
      "  warnings.warn(f\"A NumPy version >={np_minversion} and <{np_maxversion}\"\n"
     ]
    },
    {
     "name": "stdout",
     "output_type": "stream",
     "text": [
      "/kaggle/input/jee-marks-and-rank/Updated_JEE_mark_vs_rank.xlsx\n"
     ]
    }
   ],
   "source": [
    "#Importing Packages\n",
    "\n",
    "import numpy as np # linear algebra\n",
    "import pandas as pd # data processing, \n",
    "import matplotlib.pyplot as plt\n",
    "\n",
    "from sklearn.model_selection import train_test_split\n",
    "from sklearn.metrics import r2_score, mean_absolute_error, mean_squared_error\n",
    "\n",
    "\n",
    "\n",
    "\n",
    "import os\n",
    "for dirname, _, filenames in os.walk('/kaggle/input'):\n",
    "    for filename in filenames:\n",
    "        print(os.path.join(dirname, filename))\n",
    "\n",
    "# You can write up to 20GB to the current directory (/kaggle/working/) that gets preserved as output when you create a version using \"Save & Run All\" \n",
    "# You can also write temporary files to /kaggle/temp/, but they won't be saved outside of the current session"
   ]
  },
  {
   "cell_type": "markdown",
   "id": "74ee8af0",
   "metadata": {
    "papermill": {
     "duration": 0.007626,
     "end_time": "2023-05-21T13:57:25.552772",
     "exception": false,
     "start_time": "2023-05-21T13:57:25.545146",
     "status": "completed"
    },
    "tags": []
   },
   "source": [
    "## **Loading the data**"
   ]
  },
  {
   "cell_type": "code",
   "execution_count": 2,
   "id": "1aa54fb2",
   "metadata": {
    "execution": {
     "iopub.execute_input": "2023-05-21T13:57:25.569981Z",
     "iopub.status.busy": "2023-05-21T13:57:25.569040Z",
     "iopub.status.idle": "2023-05-21T13:57:25.911526Z",
     "shell.execute_reply": "2023-05-21T13:57:25.910571Z"
    },
    "papermill": {
     "duration": 0.353618,
     "end_time": "2023-05-21T13:57:25.914012",
     "exception": false,
     "start_time": "2023-05-21T13:57:25.560394",
     "status": "completed"
    },
    "tags": []
   },
   "outputs": [],
   "source": [
    "data=pd.read_excel(\"../input/jee-marks-and-rank/Updated_JEE_mark_vs_rank.xlsx\")\n",
    "data.to_csv(\"Input.csv\",header=True)\n",
    "df=pd.DataFrame(data)"
   ]
  },
  {
   "cell_type": "markdown",
   "id": "b4446831",
   "metadata": {
    "papermill": {
     "duration": 0.00748,
     "end_time": "2023-05-21T13:57:25.929141",
     "exception": false,
     "start_time": "2023-05-21T13:57:25.921661",
     "status": "completed"
    },
    "tags": []
   },
   "source": [
    "## **Data Analysing**"
   ]
  },
  {
   "cell_type": "code",
   "execution_count": 3,
   "id": "287bf2df",
   "metadata": {
    "execution": {
     "iopub.execute_input": "2023-05-21T13:57:25.946716Z",
     "iopub.status.busy": "2023-05-21T13:57:25.945766Z",
     "iopub.status.idle": "2023-05-21T13:57:25.960505Z",
     "shell.execute_reply": "2023-05-21T13:57:25.959584Z"
    },
    "papermill": {
     "duration": 0.025568,
     "end_time": "2023-05-21T13:57:25.962567",
     "exception": false,
     "start_time": "2023-05-21T13:57:25.936999",
     "status": "completed"
    },
    "tags": []
   },
   "outputs": [
    {
     "data": {
      "text/html": [
       "<div>\n",
       "<style scoped>\n",
       "    .dataframe tbody tr th:only-of-type {\n",
       "        vertical-align: middle;\n",
       "    }\n",
       "\n",
       "    .dataframe tbody tr th {\n",
       "        vertical-align: top;\n",
       "    }\n",
       "\n",
       "    .dataframe thead th {\n",
       "        text-align: right;\n",
       "    }\n",
       "</style>\n",
       "<table border=\"1\" class=\"dataframe\">\n",
       "  <thead>\n",
       "    <tr style=\"text-align: right;\">\n",
       "      <th></th>\n",
       "      <th>MARKS</th>\n",
       "      <th>RANK</th>\n",
       "    </tr>\n",
       "  </thead>\n",
       "  <tbody>\n",
       "    <tr>\n",
       "      <th>0</th>\n",
       "      <td>310</td>\n",
       "      <td>1</td>\n",
       "    </tr>\n",
       "    <tr>\n",
       "      <th>1</th>\n",
       "      <td>290</td>\n",
       "      <td>101</td>\n",
       "    </tr>\n",
       "    <tr>\n",
       "      <th>2</th>\n",
       "      <td>270</td>\n",
       "      <td>201</td>\n",
       "    </tr>\n",
       "    <tr>\n",
       "      <th>3</th>\n",
       "      <td>255</td>\n",
       "      <td>501</td>\n",
       "    </tr>\n",
       "    <tr>\n",
       "      <th>4</th>\n",
       "      <td>247</td>\n",
       "      <td>1001</td>\n",
       "    </tr>\n",
       "  </tbody>\n",
       "</table>\n",
       "</div>"
      ],
      "text/plain": [
       "   MARKS  RANK\n",
       "0    310     1\n",
       "1    290   101\n",
       "2    270   201\n",
       "3    255   501\n",
       "4    247  1001"
      ]
     },
     "execution_count": 3,
     "metadata": {},
     "output_type": "execute_result"
    }
   ],
   "source": [
    "df.head()"
   ]
  },
  {
   "cell_type": "code",
   "execution_count": 4,
   "id": "fa60b0be",
   "metadata": {
    "execution": {
     "iopub.execute_input": "2023-05-21T13:57:25.979776Z",
     "iopub.status.busy": "2023-05-21T13:57:25.979431Z",
     "iopub.status.idle": "2023-05-21T13:57:25.999886Z",
     "shell.execute_reply": "2023-05-21T13:57:25.998601Z"
    },
    "papermill": {
     "duration": 0.031544,
     "end_time": "2023-05-21T13:57:26.002081",
     "exception": false,
     "start_time": "2023-05-21T13:57:25.970537",
     "status": "completed"
    },
    "tags": []
   },
   "outputs": [
    {
     "name": "stdout",
     "output_type": "stream",
     "text": [
      "<class 'pandas.core.frame.DataFrame'>\n",
      "RangeIndex: 121 entries, 0 to 120\n",
      "Data columns (total 2 columns):\n",
      " #   Column  Non-Null Count  Dtype\n",
      "---  ------  --------------  -----\n",
      " 0   MARKS   121 non-null    int64\n",
      " 1   RANK    121 non-null    int64\n",
      "dtypes: int64(2)\n",
      "memory usage: 2.0 KB\n"
     ]
    }
   ],
   "source": [
    "df.info()"
   ]
  },
  {
   "cell_type": "code",
   "execution_count": 5,
   "id": "c24ef654",
   "metadata": {
    "execution": {
     "iopub.execute_input": "2023-05-21T13:57:26.019514Z",
     "iopub.status.busy": "2023-05-21T13:57:26.018960Z",
     "iopub.status.idle": "2023-05-21T13:57:26.026189Z",
     "shell.execute_reply": "2023-05-21T13:57:26.025255Z"
    },
    "papermill": {
     "duration": 0.018228,
     "end_time": "2023-05-21T13:57:26.028174",
     "exception": false,
     "start_time": "2023-05-21T13:57:26.009946",
     "status": "completed"
    },
    "tags": []
   },
   "outputs": [
    {
     "data": {
      "text/plain": [
       "MARKS    310\n",
       "RANK       1\n",
       "Name: 0, dtype: int64"
      ]
     },
     "execution_count": 5,
     "metadata": {},
     "output_type": "execute_result"
    }
   ],
   "source": [
    "df.loc[0]"
   ]
  },
  {
   "cell_type": "code",
   "execution_count": 6,
   "id": "6ea4a115",
   "metadata": {
    "execution": {
     "iopub.execute_input": "2023-05-21T13:57:26.045560Z",
     "iopub.status.busy": "2023-05-21T13:57:26.044741Z",
     "iopub.status.idle": "2023-05-21T13:57:26.055872Z",
     "shell.execute_reply": "2023-05-21T13:57:26.054874Z"
    },
    "papermill": {
     "duration": 0.021869,
     "end_time": "2023-05-21T13:57:26.057952",
     "exception": false,
     "start_time": "2023-05-21T13:57:26.036083",
     "status": "completed"
    },
    "tags": []
   },
   "outputs": [
    {
     "data": {
      "text/html": [
       "<div>\n",
       "<style scoped>\n",
       "    .dataframe tbody tr th:only-of-type {\n",
       "        vertical-align: middle;\n",
       "    }\n",
       "\n",
       "    .dataframe tbody tr th {\n",
       "        vertical-align: top;\n",
       "    }\n",
       "\n",
       "    .dataframe thead th {\n",
       "        text-align: right;\n",
       "    }\n",
       "</style>\n",
       "<table border=\"1\" class=\"dataframe\">\n",
       "  <thead>\n",
       "    <tr style=\"text-align: right;\">\n",
       "      <th></th>\n",
       "      <th>MARKS</th>\n",
       "      <th>RANK</th>\n",
       "    </tr>\n",
       "  </thead>\n",
       "  <tbody>\n",
       "    <tr>\n",
       "      <th>MARKS</th>\n",
       "      <td>1.000000</td>\n",
       "      <td>-0.590798</td>\n",
       "    </tr>\n",
       "    <tr>\n",
       "      <th>RANK</th>\n",
       "      <td>-0.590798</td>\n",
       "      <td>1.000000</td>\n",
       "    </tr>\n",
       "  </tbody>\n",
       "</table>\n",
       "</div>"
      ],
      "text/plain": [
       "          MARKS      RANK\n",
       "MARKS  1.000000 -0.590798\n",
       "RANK  -0.590798  1.000000"
      ]
     },
     "execution_count": 6,
     "metadata": {},
     "output_type": "execute_result"
    }
   ],
   "source": [
    "df.corr()"
   ]
  },
  {
   "cell_type": "code",
   "execution_count": 7,
   "id": "88adddde",
   "metadata": {
    "execution": {
     "iopub.execute_input": "2023-05-21T13:57:26.075500Z",
     "iopub.status.busy": "2023-05-21T13:57:26.074697Z",
     "iopub.status.idle": "2023-05-21T13:57:26.082530Z",
     "shell.execute_reply": "2023-05-21T13:57:26.081133Z"
    },
    "papermill": {
     "duration": 0.018462,
     "end_time": "2023-05-21T13:57:26.084482",
     "exception": false,
     "start_time": "2023-05-21T13:57:26.066020",
     "status": "completed"
    },
    "tags": []
   },
   "outputs": [
    {
     "name": "stdout",
     "output_type": "stream",
     "text": [
      "     MARKS     RANK\n",
      "0      310        1\n",
      "1      290      101\n",
      "2      270      201\n",
      "3      255      501\n",
      "4      247     1001\n",
      "..     ...      ...\n",
      "116     87    92303\n",
      "117     41   326517\n",
      "118     61   173239\n",
      "119      1  1025009\n",
      "120     40   334080\n",
      "\n",
      "[121 rows x 2 columns]\n"
     ]
    }
   ],
   "source": [
    "print(df)"
   ]
  },
  {
   "cell_type": "markdown",
   "id": "e5750d7b",
   "metadata": {
    "papermill": {
     "duration": 0.007773,
     "end_time": "2023-05-21T13:57:26.100929",
     "exception": false,
     "start_time": "2023-05-21T13:57:26.093156",
     "status": "completed"
    },
    "tags": []
   },
   "source": [
    "## **Data Cleaning** "
   ]
  },
  {
   "cell_type": "code",
   "execution_count": 8,
   "id": "6a3f9e86",
   "metadata": {
    "execution": {
     "iopub.execute_input": "2023-05-21T13:57:26.118536Z",
     "iopub.status.busy": "2023-05-21T13:57:26.117667Z",
     "iopub.status.idle": "2023-05-21T13:57:26.127271Z",
     "shell.execute_reply": "2023-05-21T13:57:26.126325Z"
    },
    "papermill": {
     "duration": 0.020416,
     "end_time": "2023-05-21T13:57:26.129222",
     "exception": false,
     "start_time": "2023-05-21T13:57:26.108806",
     "status": "completed"
    },
    "tags": []
   },
   "outputs": [
    {
     "data": {
      "text/html": [
       "<div>\n",
       "<style scoped>\n",
       "    .dataframe tbody tr th:only-of-type {\n",
       "        vertical-align: middle;\n",
       "    }\n",
       "\n",
       "    .dataframe tbody tr th {\n",
       "        vertical-align: top;\n",
       "    }\n",
       "\n",
       "    .dataframe thead th {\n",
       "        text-align: right;\n",
       "    }\n",
       "</style>\n",
       "<table border=\"1\" class=\"dataframe\">\n",
       "  <thead>\n",
       "    <tr style=\"text-align: right;\">\n",
       "      <th></th>\n",
       "      <th>MARKS</th>\n",
       "      <th>RANK</th>\n",
       "    </tr>\n",
       "  </thead>\n",
       "  <tbody>\n",
       "    <tr>\n",
       "      <th>58</th>\n",
       "      <td>108</td>\n",
       "      <td>182200</td>\n",
       "    </tr>\n",
       "    <tr>\n",
       "      <th>59</th>\n",
       "      <td>101</td>\n",
       "      <td>182200</td>\n",
       "    </tr>\n",
       "  </tbody>\n",
       "</table>\n",
       "</div>"
      ],
      "text/plain": [
       "    MARKS    RANK\n",
       "58    108  182200\n",
       "59    101  182200"
      ]
     },
     "execution_count": 8,
     "metadata": {},
     "output_type": "execute_result"
    }
   ],
   "source": [
    "df.loc[[58,59]]\n"
   ]
  },
  {
   "cell_type": "markdown",
   "id": "e6aded4d",
   "metadata": {
    "papermill": {
     "duration": 0.007856,
     "end_time": "2023-05-21T13:57:26.145064",
     "exception": false,
     "start_time": "2023-05-21T13:57:26.137208",
     "status": "completed"
    },
    "tags": []
   },
   "source": [
    "No two students can have same ranks, so we need to remove one row."
   ]
  },
  {
   "cell_type": "code",
   "execution_count": 9,
   "id": "f8d301af",
   "metadata": {
    "execution": {
     "iopub.execute_input": "2023-05-21T13:57:26.162171Z",
     "iopub.status.busy": "2023-05-21T13:57:26.161903Z",
     "iopub.status.idle": "2023-05-21T13:57:26.167159Z",
     "shell.execute_reply": "2023-05-21T13:57:26.166284Z"
    },
    "papermill": {
     "duration": 0.016101,
     "end_time": "2023-05-21T13:57:26.169110",
     "exception": false,
     "start_time": "2023-05-21T13:57:26.153009",
     "status": "completed"
    },
    "tags": []
   },
   "outputs": [],
   "source": [
    "df.drop(59,inplace=True)"
   ]
  },
  {
   "cell_type": "code",
   "execution_count": 10,
   "id": "b3ecbefc",
   "metadata": {
    "execution": {
     "iopub.execute_input": "2023-05-21T13:57:26.187051Z",
     "iopub.status.busy": "2023-05-21T13:57:26.186301Z",
     "iopub.status.idle": "2023-05-21T13:57:26.195884Z",
     "shell.execute_reply": "2023-05-21T13:57:26.194646Z"
    },
    "papermill": {
     "duration": 0.020521,
     "end_time": "2023-05-21T13:57:26.197905",
     "exception": false,
     "start_time": "2023-05-21T13:57:26.177384",
     "status": "completed"
    },
    "tags": []
   },
   "outputs": [
    {
     "name": "stdout",
     "output_type": "stream",
     "text": [
      "<class 'pandas.core.frame.DataFrame'>\n",
      "Int64Index: 120 entries, 0 to 120\n",
      "Data columns (total 2 columns):\n",
      " #   Column  Non-Null Count  Dtype\n",
      "---  ------  --------------  -----\n",
      " 0   MARKS   120 non-null    int64\n",
      " 1   RANK    120 non-null    int64\n",
      "dtypes: int64(2)\n",
      "memory usage: 2.8 KB\n"
     ]
    }
   ],
   "source": [
    "df.info()"
   ]
  },
  {
   "cell_type": "markdown",
   "id": "f4cc22ab",
   "metadata": {
    "papermill": {
     "duration": 0.007839,
     "end_time": "2023-05-21T13:57:26.213955",
     "exception": false,
     "start_time": "2023-05-21T13:57:26.206116",
     "status": "completed"
    },
    "tags": []
   },
   "source": [
    "## **Data Visualization**"
   ]
  },
  {
   "cell_type": "code",
   "execution_count": 11,
   "id": "538e75a7",
   "metadata": {
    "execution": {
     "iopub.execute_input": "2023-05-21T13:57:26.231918Z",
     "iopub.status.busy": "2023-05-21T13:57:26.231080Z",
     "iopub.status.idle": "2023-05-21T13:57:26.500494Z",
     "shell.execute_reply": "2023-05-21T13:57:26.499563Z"
    },
    "papermill": {
     "duration": 0.280594,
     "end_time": "2023-05-21T13:57:26.502559",
     "exception": false,
     "start_time": "2023-05-21T13:57:26.221965",
     "status": "completed"
    },
    "tags": []
   },
   "outputs": [
    {
     "data": {
      "text/plain": [
       "<AxesSubplot: xlabel='MARKS', ylabel='RANK'>"
      ]
     },
     "execution_count": 11,
     "metadata": {},
     "output_type": "execute_result"
    },
    {
     "data": {
      "image/png": "[encoded data removed]",
      "text/plain": [
       "<Figure size 640x480 with 1 Axes>"
      ]
     },
     "metadata": {},
     "output_type": "display_data"
    }
   ],
   "source": [
    "df.plot(kind=\"scatter\",x=\"MARKS\",y=\"RANK\")"
   ]
  },
  {
   "cell_type": "markdown",
   "id": "093b428e",
   "metadata": {
    "papermill": {
     "duration": 0.008384,
     "end_time": "2023-05-21T13:57:26.519588",
     "exception": false,
     "start_time": "2023-05-21T13:57:26.511204",
     "status": "completed"
    },
    "tags": []
   },
   "source": [
    "## **Train Test Split**"
   ]
  },
  {
   "cell_type": "code",
   "execution_count": 12,
   "id": "53977284",
   "metadata": {
    "execution": {
     "iopub.execute_input": "2023-05-21T13:57:26.539972Z",
     "iopub.status.busy": "2023-05-21T13:57:26.538095Z",
     "iopub.status.idle": "2023-05-21T13:57:26.544473Z",
     "shell.execute_reply": "2023-05-21T13:57:26.543623Z"
    },
    "papermill": {
     "duration": 0.018323,
     "end_time": "2023-05-21T13:57:26.546432",
     "exception": false,
     "start_time": "2023-05-21T13:57:26.528109",
     "status": "completed"
    },
    "tags": []
   },
   "outputs": [],
   "source": [
    "X=df.drop(\"RANK\",axis=1)\n",
    "y=df[\"RANK\"]"
   ]
  },
  {
   "cell_type": "code",
   "execution_count": 13,
   "id": "4a487d72",
   "metadata": {
    "execution": {
     "iopub.execute_input": "2023-05-21T13:57:26.564817Z",
     "iopub.status.busy": "2023-05-21T13:57:26.563994Z",
     "iopub.status.idle": "2023-05-21T13:57:26.570252Z",
     "shell.execute_reply": "2023-05-21T13:57:26.569353Z"
    },
    "papermill": {
     "duration": 0.017481,
     "end_time": "2023-05-21T13:57:26.572229",
     "exception": false,
     "start_time": "2023-05-21T13:57:26.554748",
     "status": "completed"
    },
    "tags": []
   },
   "outputs": [],
   "source": [
    "X_train, X_test, y_train, y_test = train_test_split(X, y, test_size=0.4, random_state=60)"
   ]
  },
  {
   "cell_type": "markdown",
   "id": "97af60db",
   "metadata": {
    "papermill": {
     "duration": 0.008228,
     "end_time": "2023-05-21T13:57:26.589023",
     "exception": false,
     "start_time": "2023-05-21T13:57:26.580795",
     "status": "completed"
    },
    "tags": []
   },
   "source": [
    "## **Training and Testing models**"
   ]
  },
  {
   "cell_type": "markdown",
   "id": "8e27b55a",
   "metadata": {
    "papermill": {
     "duration": 0.008147,
     "end_time": "2023-05-21T13:57:26.605609",
     "exception": false,
     "start_time": "2023-05-21T13:57:26.597462",
     "status": "completed"
    },
    "tags": []
   },
   "source": [
    "### **Linear Regression**"
   ]
  },
  {
   "cell_type": "code",
   "execution_count": 14,
   "id": "d22cc88c",
   "metadata": {
    "execution": {
     "iopub.execute_input": "2023-05-21T13:57:26.624535Z",
     "iopub.status.busy": "2023-05-21T13:57:26.623493Z",
     "iopub.status.idle": "2023-05-21T13:57:26.718869Z",
     "shell.execute_reply": "2023-05-21T13:57:26.717955Z"
    },
    "papermill": {
     "duration": 0.107241,
     "end_time": "2023-05-21T13:57:26.721235",
     "exception": false,
     "start_time": "2023-05-21T13:57:26.613994",
     "status": "completed"
    },
    "tags": []
   },
   "outputs": [],
   "source": [
    "from sklearn.linear_model import LinearRegression\n",
    "model1=LinearRegression()\n",
    "model1.fit(X_train,y_train)\n",
    "predictions1=model1.predict(X_test)"
   ]
  },
  {
   "cell_type": "markdown",
   "id": "e4a23991",
   "metadata": {
    "papermill": {
     "duration": 0.00832,
     "end_time": "2023-05-21T13:57:26.738437",
     "exception": false,
     "start_time": "2023-05-21T13:57:26.730117",
     "status": "completed"
    },
    "tags": []
   },
   "source": [
    "### **Logistic Regression**"
   ]
  },
  {
   "cell_type": "code",
   "execution_count": 15,
   "id": "6d51a902",
   "metadata": {
    "execution": {
     "iopub.execute_input": "2023-05-21T13:57:26.757197Z",
     "iopub.status.busy": "2023-05-21T13:57:26.756292Z",
     "iopub.status.idle": "2023-05-21T13:57:26.806901Z",
     "shell.execute_reply": "2023-05-21T13:57:26.805860Z"
    },
    "papermill": {
     "duration": 0.062702,
     "end_time": "2023-05-21T13:57:26.809586",
     "exception": false,
     "start_time": "2023-05-21T13:57:26.746884",
     "status": "completed"
    },
    "tags": []
   },
   "outputs": [
    {
     "name": "stderr",
     "output_type": "stream",
     "text": [
      "/opt/conda/lib/python3.10/site-packages/sklearn/linear_model/_logistic.py:458: ConvergenceWarning: lbfgs failed to converge (status=1):\n",
      "STOP: TOTAL NO. of ITERATIONS REACHED LIMIT.\n",
      "\n",
      "Increase the number of iterations (max_iter) or scale the data as shown in:\n",
      "    https://scikit-learn.org/stable/modules/preprocessing.html\n",
      "Please also refer to the documentation for alternative solver options:\n",
      "    https://scikit-learn.org/stable/modules/linear_model.html#logistic-regression\n",
      "  n_iter_i = _check_optimize_result(\n"
     ]
    }
   ],
   "source": [
    "from sklearn.linear_model import LogisticRegression\n",
    "model2=LogisticRegression(max_iter=100)\n",
    "model2.fit(X_train,y_train)\n",
    "predictions2=model2.predict(X_test)"
   ]
  },
  {
   "cell_type": "markdown",
   "id": "cc4fa4fb",
   "metadata": {
    "papermill": {
     "duration": 0.00837,
     "end_time": "2023-05-21T13:57:26.826722",
     "exception": false,
     "start_time": "2023-05-21T13:57:26.818352",
     "status": "completed"
    },
    "tags": []
   },
   "source": [
    "### **Randomn Forest Regression**"
   ]
  },
  {
   "cell_type": "code",
   "execution_count": 16,
   "id": "f9667d6e",
   "metadata": {
    "execution": {
     "iopub.execute_input": "2023-05-21T13:57:26.845532Z",
     "iopub.status.busy": "2023-05-21T13:57:26.844679Z",
     "iopub.status.idle": "2023-05-21T13:57:27.244631Z",
     "shell.execute_reply": "2023-05-21T13:57:27.243705Z"
    },
    "papermill": {
     "duration": 0.411875,
     "end_time": "2023-05-21T13:57:27.247035",
     "exception": false,
     "start_time": "2023-05-21T13:57:26.835160",
     "status": "completed"
    },
    "tags": []
   },
   "outputs": [],
   "source": [
    "from sklearn.ensemble import RandomForestRegressor\n",
    "model3=RandomForestRegressor()\n",
    "model3.fit(X_train,y_train)\n",
    "predictions3=model3.predict(X_test).round()"
   ]
  },
  {
   "cell_type": "markdown",
   "id": "5aa683e6",
   "metadata": {
    "papermill": {
     "duration": 0.008385,
     "end_time": "2023-05-21T13:57:27.264633",
     "exception": false,
     "start_time": "2023-05-21T13:57:27.256248",
     "status": "completed"
    },
    "tags": []
   },
   "source": [
    "### **Support Vetor Regression**"
   ]
  },
  {
   "cell_type": "code",
   "execution_count": 17,
   "id": "88569035",
   "metadata": {
    "execution": {
     "iopub.execute_input": "2023-05-21T13:57:27.283457Z",
     "iopub.status.busy": "2023-05-21T13:57:27.282656Z",
     "iopub.status.idle": "2023-05-21T13:57:27.292952Z",
     "shell.execute_reply": "2023-05-21T13:57:27.292096Z"
    },
    "papermill": {
     "duration": 0.021971,
     "end_time": "2023-05-21T13:57:27.295080",
     "exception": false,
     "start_time": "2023-05-21T13:57:27.273109",
     "status": "completed"
    },
    "tags": []
   },
   "outputs": [],
   "source": [
    "from sklearn.svm import SVR\n",
    "model4 = SVR(C=100000)\n",
    "model4.fit(X_train,y_train)\n",
    "predictions4=model4.predict(X_test).round()"
   ]
  },
  {
   "cell_type": "markdown",
   "id": "0352d681",
   "metadata": {
    "papermill": {
     "duration": 0.008275,
     "end_time": "2023-05-21T13:57:27.312541",
     "exception": false,
     "start_time": "2023-05-21T13:57:27.304266",
     "status": "completed"
    },
    "tags": []
   },
   "source": [
    "## **Evaluation Metrices**"
   ]
  },
  {
   "cell_type": "code",
   "execution_count": 18,
   "id": "784ea65c",
   "metadata": {
    "execution": {
     "iopub.execute_input": "2023-05-21T13:57:27.331100Z",
     "iopub.status.busy": "2023-05-21T13:57:27.330352Z",
     "iopub.status.idle": "2023-05-21T13:57:27.350761Z",
     "shell.execute_reply": "2023-05-21T13:57:27.349469Z"
    },
    "papermill": {
     "duration": 0.031766,
     "end_time": "2023-05-21T13:57:27.352793",
     "exception": false,
     "start_time": "2023-05-21T13:57:27.321027",
     "status": "completed"
    },
    "tags": []
   },
   "outputs": [
    {
     "name": "stdout",
     "output_type": "stream",
     "text": [
      "Linear Regression score : 0.3881201181643521\n",
      "Logistic Regression score : 0.0625\n",
      "Randomn Forest Regression score : 0.785476645350431\n",
      "Support Vector Regression score : 0.7241326224508045\n"
     ]
    }
   ],
   "source": [
    "print(\"Linear Regression score :\",model1.score(X_test,y_test))\n",
    "print(\"Logistic Regression score :\",model2.score(X_test,y_test))\n",
    "print(\"Randomn Forest Regression score :\",model3.score(X_test,y_test))\n",
    "print(\"Support Vector Regression score :\",model4.score(X_test,y_test))"
   ]
  },
  {
   "cell_type": "code",
   "execution_count": 19,
   "id": "3c2bb444",
   "metadata": {
    "execution": {
     "iopub.execute_input": "2023-05-21T13:57:27.371657Z",
     "iopub.status.busy": "2023-05-21T13:57:27.371369Z",
     "iopub.status.idle": "2023-05-21T13:57:27.623277Z",
     "shell.execute_reply": "2023-05-21T13:57:27.622250Z"
    },
    "papermill": {
     "duration": 0.263951,
     "end_time": "2023-05-21T13:57:27.625395",
     "exception": false,
     "start_time": "2023-05-21T13:57:27.361444",
     "status": "completed"
    },
    "tags": []
   },
   "outputs": [
    {
     "data": {
      "image/png": "[encoded data removed]",
      "text/plain": [
       "<Figure size 640x480 with 1 Axes>"
      ]
     },
     "metadata": {},
     "output_type": "display_data"
    }
   ],
   "source": [
    "plt.figure()\n",
    "plt.bar(height=model1.score(X_test,y_test)*100,x=\"Linear\")\n",
    "plt.bar(height=model2.score(X_test,y_test)*100,x=\"Logistic\")\n",
    "plt.bar(height=model3.score(X_test,y_test)*100,x=\"Randomn Forest\")\n",
    "plt.bar(height=model4.score(X_test,y_test)*100,x=\"Support Vector\")\n",
    "plt.title(\"The score of each regression model\")\n",
    "plt.xlabel(\"Regression Models\")\n",
    "plt.ylabel(\"Score Percentage\")\n",
    "plt.show()"
   ]
  }
 ],
 "metadata": {
  "kernelspec": {
   "display_name": "Python 3",
   "language": "python",
   "name": "python3"
  },
  "language_info": {
   "codemirror_mode": {
    "name": "ipython",
    "version": 3
   },
   "file_extension": ".py",
   "mimetype": "text/x-python",
   "name": "python",
   "nbconvert_exporter": "python",
   "pygments_lexer": "ipython3",
   "version": "3.10.10"
  },
  "papermill": {
   "default_parameters": {},
   "duration": 14.476365,
   "end_time": "2023-05-21T13:57:28.454854",
   "environment_variables": {},
   "exception": null,
   "input_path": "__notebook__.ipynb",
   "output_path": "__notebook__.ipynb",
   "parameters": {},
   "start_time": "2023-05-21T13:57:13.978489",
   "version": "2.4.0"
  }
 },
 "nbformat": 4,
 "nbformat_minor": 5
}
